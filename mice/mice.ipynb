{
  "cells": [
    {
      "cell_type": "code",
      "execution_count": null,
      "metadata": {
        "execution": {
          "iopub.execute_input": "2022-01-30T09:45:11.225289Z",
          "iopub.status.busy": "2022-01-30T09:45:11.224796Z",
          "iopub.status.idle": "2022-01-30T09:45:13.122206Z",
          "shell.execute_reply": "2022-01-30T09:45:13.121314Z",
          "shell.execute_reply.started": "2022-01-30T09:45:11.225239Z"
        },
        "id": "jo9w80Bhx70m"
      },
      "outputs": [],
      "source": [
        "# mice pose estimation\n",
        "# coded in colab\n",
        "\n",
        "import os\n",
        "import gc\n",
        "import cv2\n",
        "import numpy as np\n",
        "import pandas as pd\n",
        "import tensorflow as tf\n",
        "import matplotlib.pyplot as plt\n",
        "from tensorflow.keras import layers"
      ]
    },
    {
      "cell_type": "code",
      "execution_count": null,
      "metadata": {
        "execution": {
          "iopub.execute_input": "2022-01-30T09:45:17.662294Z",
          "iopub.status.busy": "2022-01-30T09:45:17.661969Z",
          "iopub.status.idle": "2022-01-30T09:45:18.357462Z",
          "shell.execute_reply": "2022-01-30T09:45:18.356515Z",
          "shell.execute_reply.started": "2022-01-30T09:45:17.662254Z"
        },
        "id": "ZozSvSpWjfmv",
        "outputId": "8f1270c9-ea19-4427-ece1-2859ccd04ceb",
        "colab": {
          "base_uri": "https://localhost:8080/"
        }
      },
      "outputs": [
        {
          "output_type": "stream",
          "name": "stdout",
          "text": [
            "Cloning into 'Vision'...\n",
            "remote: Enumerating objects: 343, done.\u001b[K\n",
            "remote: Counting objects: 100% (343/343), done.\u001b[K\n",
            "remote: Compressing objects: 100% (325/325), done.\u001b[K\n",
            "remote: Total 343 (delta 29), reused 319 (delta 13), pack-reused 0\n",
            "Receiving objects: 100% (343/343), 45.92 MiB | 12.81 MiB/s, done.\n",
            "Resolving deltas: 100% (29/29), done.\n"
          ]
        }
      ],
      "source": [
        "!git clone https://github.com/hongh-zhang/Vision.git\n",
        "path = 'Vision/mice/'"
      ]
    },
    {
      "cell_type": "markdown",
      "metadata": {
        "id": "ZV5TQufWuMVr"
      },
      "source": [
        "# preprocess"
      ]
    },
    {
      "cell_type": "code",
      "execution_count": null,
      "metadata": {
        "id": "qnN9t-Btna88",
        "colab": {
          "base_uri": "https://localhost:8080/"
        },
        "outputId": "c4197cd8-fc65-48e9-928b-6ad6512ee0cb"
      },
      "outputs": [
        {
          "output_type": "stream",
          "name": "stdout",
          "text": [
            "(464, 240, 320, 4, 2)\n"
          ]
        }
      ],
      "source": [
        "# reading & preprocessing training data\n",
        "\n",
        "# images are read as numpy array (/tensorflow tensors) by opencv automatically\n",
        "\n",
        "# keypoint locations are provided in a csv file as (x,y) coordinates\n",
        "# so we'll have to convert it into array/tensors\n",
        "# each body part coordinate & surrounding pixels are valued as 1.0\n",
        "# the rest(background) being 0 to produce a heatmap for each body part\n",
        "# examples below\n",
        "\n",
        "RADIUS = 3  # influence range of each label\n",
        "SHAPE = (240, 320)  # shape of label\n",
        "\n",
        "\n",
        "images = []\n",
        "labels = []\n",
        "\n",
        "for img_file, row in zip(sorted(os.listdir(path+'data/frames')), \n",
        "            pd.read_csv(path+'data/CollectedData_Pranav.csv').iloc[2:,1:].to_numpy(dtype=float)):\n",
        "    \n",
        "    # read image into (1, 480, 640, 3) tesnor\n",
        "    img = cv2.imread(os.path.join(path+'data/frames',img_file))\n",
        "    img = tf.convert_to_tensor(img.reshape(1, 480, 640, 3), dtype=float)/255.0\n",
        "    \n",
        "    # process label coordinate into heatmap\n",
        "    lbl = []\n",
        "    for i in range(0, 8, 2):\n",
        "\n",
        "        # read coordinates\n",
        "        # downsample by 2 to reduce operations\n",
        "        x = round(row[i] / 2)\n",
        "        y = round(row[i+1] / 2)\n",
        "        \n",
        "        # create heatmap from coordinates\n",
        "        heatmap = cv2.circle(np.zeros(SHAPE), (x, y), RADIUS, 255, -1) / 255.0\n",
        "        heatmap = tf.reshape(tf.convert_to_tensor(heatmap, dtype=float), (1, 240, 320, 1))\n",
        "        lbl.append(heatmap)\n",
        "    # combine into a single tensor & normalize to 0-1\n",
        "    lbl = tf.concat(lbl, axis=3)  # each lbl: (1, 240, 320, 4)\n",
        "    \n",
        "    images.append(img)\n",
        "    labels.append(lbl)\n",
        "\n",
        "    # flip\n",
        "    for axis in ([1],[2],[1,2]):\n",
        "        new_img = tf.reverse(img, axis)\n",
        "        new_lbl = tf.reverse(lbl, axis)\n",
        "        images.append(new_img)\n",
        "        labels.append(new_lbl)\n",
        "\n",
        "# convert list of tensors into a large tensor\n",
        "images = tf.concat(images, axis=0)\n",
        "labels = tf.concat(labels, axis=0)\n",
        "\n",
        "# cast labels into 1+4d, -> (None, 240, 320, 4, 2)\n",
        "labels = tf.stack([1-labels, labels], axis=4)\n",
        "print(labels.shape)\n",
        "# each dim corresponds to\n",
        "# (batch size, height, width,\n",
        "# no. of feature, we have (snout, L.ear, R.ear, tail) here,\n",
        "# probability of feature/non-feature)\n",
        "\n",
        "# the last dimension is actually redundant, but required to work with\n",
        "# tensorflow's categorical cross entropy loss\n",
        "# (didn't manage to properly use the binary cross entropy loss, maybe\n",
        "# a custom loss is required?)"
      ]
    },
    {
      "cell_type": "code",
      "source": [
        "# sample image\n",
        "plt.imshow(images[0].numpy()[:,:,0], cmap='gray');"
      ],
      "metadata": {
        "colab": {
          "base_uri": "https://localhost:8080/",
          "height": 269
        },
        "id": "-yUFsse51F0Z",
        "outputId": "b59c4205-380d-4d81-aed0-5ad92d3de1b0"
      },
      "execution_count": null,
      "outputs": [
        {
          "output_type": "display_data",
          "data": {
            "image/png": "[encoded data removed]",
            "text/plain": [
              "<Figure size 432x288 with 1 Axes>"
            ]
          },
          "metadata": {
            "needs_background": "light"
          }
        }
      ]
    },
    {
      "cell_type": "code",
      "source": [
        "# sample label for snout position\n",
        "# (half the size)\n",
        "plt.imshow(labels[0].numpy()[:,:,0,1] * 255);\n",
        "# basically a binary classification task on all pixels"
      ],
      "metadata": {
        "colab": {
          "base_uri": "https://localhost:8080/",
          "height": 269
        },
        "id": "1kW9FK6L1WvF",
        "outputId": "3d35391e-0d6d-4fc4-b81c-977734cdd402"
      },
      "execution_count": null,
      "outputs": [
        {
          "output_type": "display_data",
          "data": {
            "image/png": "[encoded data removed]",
            "text/plain": [
              "<Figure size 432x288 with 1 Axes>"
            ]
          },
          "metadata": {
            "needs_background": "light"
          }
        }
      ]
    },
    {
      "cell_type": "code",
      "execution_count": null,
      "metadata": {
        "execution": {
          "iopub.execute_input": "2022-01-30T09:45:28.812358Z",
          "iopub.status.busy": "2022-01-30T09:45:28.811763Z",
          "iopub.status.idle": "2022-01-30T09:45:28.817994Z",
          "shell.execute_reply": "2022-01-30T09:45:28.817135Z",
          "shell.execute_reply.started": "2022-01-30T09:45:28.812313Z"
        },
        "id": "5zDqvoUjUjan"
      },
      "outputs": [],
      "source": [
        "# spliting validation set\n",
        "test_images = images[:20]\n",
        "test_labels = labels[:20]\n",
        "images = images[20:]\n",
        "labels = labels[20:]"
      ]
    },
    {
      "cell_type": "markdown",
      "metadata": {
        "id": "rE0bE2bnmQGP"
      },
      "source": [
        "# Train"
      ]
    },
    {
      "cell_type": "code",
      "execution_count": null,
      "metadata": {
        "execution": {
          "iopub.execute_input": "2022-01-30T09:45:31.156277Z",
          "iopub.status.busy": "2022-01-30T09:45:31.155781Z",
          "iopub.status.idle": "2022-01-30T09:45:31.167900Z",
          "shell.execute_reply": "2022-01-30T09:45:31.167196Z",
          "shell.execute_reply.started": "2022-01-30T09:45:31.156214Z"
        },
        "id": "zr8lBcugyN1Q"
      },
      "outputs": [],
      "source": [
        "class Model(tf.keras.Model):\n",
        "    def __init__(self,):\n",
        "        super().__init__(self)\n",
        "\n",
        "        # low dropout for augmentation\n",
        "        self.dropout = layers.Dropout(0.1)\n",
        "\n",
        "        # using pre-trained resNet50 to extract features\n",
        "        self.resNet = tf.keras.applications.resnet50.ResNet50(include_top=False, \n",
        "                weights='imagenet', input_shape=(480, 640, 3), pooling=None)\n",
        "\n",
        "        # upsampling layers\n",
        "        self.up = tf.keras.Sequential([\n",
        "            layers.UpSampling2D(size=(2,2)),\n",
        "            layers.Conv2D(1024, 3, padding='same', activation='ReLU'),\n",
        "            layers.UpSampling2D(size=(2,2)),\n",
        "            layers.Conv2D(512, 3, padding='same', activation=None),\n",
        "            layers.BatchNormalization(),\n",
        "            layers.Activation('relu'),\n",
        "\n",
        "            layers.UpSampling2D(size=(2,2)),\n",
        "            layers.Conv2D(256, 3, padding='same', activation='ReLU'),\n",
        "            layers.UpSampling2D(size=(2,2)),\n",
        "            layers.Conv2D(128, 3, padding='same', activation=None),\n",
        "            layers.BatchNormalization(),\n",
        "            layers.Activation('relu'),\n",
        "        ])\n",
        "\n",
        "        # output layers\n",
        "        self.out = tf.keras.Sequential([\n",
        "            layers.Conv2D(64, 3, padding='same', activation='ReLU'),\n",
        "            layers.Conv2D(4, 1, padding='same', activation=None)\n",
        "        ])\n",
        "        self.activate = layers.Activation('softmax')\n",
        "\n",
        "    def call(self, X, training=False):\n",
        "\n",
        "        # augmentation\n",
        "        #X = self.dropout(X, training=training)\n",
        "        \n",
        "        # save for later concat\n",
        "        X0 = tf.nn.max_pool(X, ksize=2, strides=2, padding=\"VALID\")\n",
        "\n",
        "        # extract features with resNet, then upsample to 320*240\n",
        "        X = self.resNet(X)\n",
        "        X = self.up(X, training=training)\n",
        "\n",
        "        # concat high resolution map onto feature map\n",
        "        X = tf.concat([X0, X], axis=3)\n",
        "        X = self.out(X)\n",
        "        # shape: (None, 240, 320, 4)\n",
        "\n",
        "        # rearrange into binary probability format\n",
        "        X = tf.stack([1-X, X], axis=4)\n",
        "        # shape: (None, 240, 320, 4, 2)\n",
        "\n",
        "        X = self.activate(X)\n",
        "        return X"
      ]
    },
    {
      "cell_type": "code",
      "execution_count": null,
      "metadata": {
        "execution": {
          "iopub.execute_input": "2022-01-30T09:45:34.062504Z",
          "iopub.status.busy": "2022-01-30T09:45:34.061775Z",
          "iopub.status.idle": "2022-01-30T09:45:37.288663Z",
          "shell.execute_reply": "2022-01-30T09:45:37.287899Z",
          "shell.execute_reply.started": "2022-01-30T09:45:34.062464Z"
        },
        "id": "-thjQb8FyN3-",
        "outputId": "eaba1108-bd9d-4461-964c-6db5b2f37dec",
        "colab": {
          "base_uri": "https://localhost:8080/"
        }
      },
      "outputs": [
        {
          "output_type": "stream",
          "name": "stdout",
          "text": [
            "Downloading data from https://storage.googleapis.com/tensorflow/keras-applications/resnet/resnet50_weights_tf_dim_ordering_tf_kernels_notop.h5\n",
            "94773248/94765736 [==============================] - 2s 0us/step\n",
            "94781440/94765736 [==============================] - 2s 0us/step\n",
            "(1, 240, 320, 4, 2)\n",
            "Model: \"model\"\n",
            "_________________________________________________________________\n",
            " Layer (type)                Output Shape              Param #   \n",
            "=================================================================\n",
            " dropout (Dropout)           multiple                  0 (unused)\n",
            "                                                                 \n",
            " resnet50 (Functional)       (None, 15, 20, 2048)      23587712  \n",
            "                                                                 \n",
            " sequential (Sequential)     (1, 240, 320, 128)        25072000  \n",
            "                                                                 \n",
            " sequential_1 (Sequential)   (1, 240, 320, 4)          75780     \n",
            "                                                                 \n",
            " activation_2 (Activation)   multiple                  0         \n",
            "                                                                 \n",
            "=================================================================\n",
            "Total params: 48,735,492\n",
            "Trainable params: 48,681,092\n",
            "Non-trainable params: 54,400\n",
            "_________________________________________________________________\n"
          ]
        }
      ],
      "source": [
        "gc.collect();\n",
        "\n",
        "nn = Model()\n",
        "print(nn(test_images[0:1]).shape)\n",
        "nn.summary()"
      ]
    },
    {
      "cell_type": "code",
      "execution_count": null,
      "metadata": {
        "id": "Vdm5F05W2iej"
      },
      "outputs": [],
      "source": [
        "nn.compile(\n",
        "    optimizer=tf.keras.optimizers.Adam(learning_rate=3e-4, name='Adam'), \n",
        "    loss=tf.keras.losses.CategoricalCrossentropy(from_logits=False)\n",
        "    )\n",
        "nn.fit(x=images, y=labels, shuffle=True, batch_size=4, epochs=40, \n",
        "       verbose='auto', validation_data=(test_images, test_labels));\n",
        "# larger batch size breaks colab"
      ]
    },
    {
      "cell_type": "code",
      "execution_count": null,
      "metadata": {
        "execution": {
          "iopub.execute_input": "2022-01-30T09:52:01.153209Z",
          "iopub.status.busy": "2022-01-30T09:52:01.152551Z",
          "iopub.status.idle": "2022-01-30T09:52:01.432008Z",
          "shell.execute_reply": "2022-01-30T09:52:01.431110Z",
          "shell.execute_reply.started": "2022-01-30T09:52:01.153170Z"
        },
        "id": "IQOSFtElcTKN"
      },
      "outputs": [],
      "source": [
        "plt.imshow(nn(test_images[0:1])[0,:,:,0,1].numpy() * 255)"
      ]
    },
    {
      "cell_type": "code",
      "execution_count": null,
      "metadata": {
        "id": "VEn_TjQMbICK"
      },
      "outputs": [],
      "source": [
        "plt.imshow(test_labels[0:1][0,:,:,0,1].numpy() * 255)"
      ]
    },
    {
      "cell_type": "code",
      "execution_count": null,
      "metadata": {
        "id": "V-nVZXLr8nFr"
      },
      "outputs": [],
      "source": [
        "# save model\n",
        "nn.save_weights('./checkpoints/my_checkpoint')\n",
        "!zip -r checkpoint.zip checkpoints"
      ]
    },
    {
      "cell_type": "markdown",
      "metadata": {
        "id": "HnaXDSJF0J5v"
      },
      "source": [
        "# Label"
      ]
    },
    {
      "cell_type": "code",
      "source": [
        "# download my trained model\n",
        "!gdown --id 1voRs2GUjfCOZpiKbJOtB5FXrOBGeHnDI\n",
        "!unzip checkpoint.zip"
      ],
      "metadata": {
        "colab": {
          "base_uri": "https://localhost:8080/"
        },
        "id": "cu59ImH5yknJ",
        "outputId": "e32ec7d2-fc61-43b8-9780-02b317721042"
      },
      "execution_count": null,
      "outputs": [
        {
          "output_type": "stream",
          "name": "stdout",
          "text": [
            "Downloading...\n",
            "From: https://drive.google.com/uc?id=1voRs2GUjfCOZpiKbJOtB5FXrOBGeHnDI\n",
            "To: /content/checkpoint.zip\n",
            "100% 549M/549M [00:02<00:00, 223MB/s]\n"
          ]
        }
      ]
    },
    {
      "cell_type": "code",
      "execution_count": null,
      "metadata": {
        "id": "JAXYtK-l0J5w",
        "colab": {
          "base_uri": "https://localhost:8080/"
        },
        "outputId": "6ebd6443-756a-4839-836f-c66c13005b4b"
      },
      "outputs": [
        {
          "output_type": "execute_result",
          "data": {
            "text/plain": [
              "<tensorflow.python.training.tracking.util.CheckpointLoadStatus at 0x7ff56a13e350>"
            ]
          },
          "metadata": {},
          "execution_count": 16
        }
      ],
      "source": [
        "nn = Model()\n",
        "nn(np.zeros((1,480,640,3)));\n",
        "nn.load_weights('checkpoints/my_checkpoint');"
      ]
    },
    {
      "cell_type": "code",
      "execution_count": null,
      "metadata": {
        "execution": {
          "iopub.execute_input": "2022-01-30T10:09:09.144569Z",
          "iopub.status.busy": "2022-01-30T10:09:09.144179Z",
          "iopub.status.idle": "2022-01-30T10:09:09.158902Z",
          "shell.execute_reply": "2022-01-30T10:09:09.158200Z",
          "shell.execute_reply.started": "2022-01-30T10:09:09.144532Z"
        },
        "id": "_A6ENwh9VjMn",
        "colab": {
          "base_uri": "https://localhost:8080/"
        },
        "outputId": "16e2977b-45a5-4696-dcbf-3692cc27c187"
      },
      "outputs": [
        {
          "output_type": "execute_result",
          "data": {
            "text/plain": [
              "(266, 24)"
            ]
          },
          "metadata": {},
          "execution_count": 17
        }
      ],
      "source": [
        "class Converter():\n",
        "    \"\"\"Convert heatmap into coordinate for labelling\"\"\"\n",
        "    \n",
        "    def __init__(self, shape, scale):\n",
        "        \n",
        "        self.shape = shape  # matrix shape of predicted labels\n",
        "        self.scale = scale  # scale relative to raw input image\n",
        "        \n",
        "        # initialization for mean converter\n",
        "        # create matrix with each cell valued at its row/col number\n",
        "        xs = np.arange(shape[1]) + 1\n",
        "        ys = np.arange(shape[0]) + 1\n",
        "        self.xs = np.repeat(xs, shape[0]).reshape(shape[::-1]).T\n",
        "        self.ys = np.repeat(ys, shape[1]).reshape(shape)\n",
        "        \n",
        "    # mean\n",
        "    # does not work ATM due to unexpected noise in output\n",
        "    # but should be more accurate when noise is properly handled\n",
        "    def convert(self, pred):\n",
        "        return (np.sum(self.xs*pred) / np.sum(pred) * self.scale,\n",
        "                np.sum(self.ys*pred) / np.sum(pred) * self.scale)\n",
        "    \n",
        "    # mode (argmax)\n",
        "    def convert2(self, pred):\n",
        "        y = np.unravel_index(pred.argmax(), self.shape)\n",
        "        return y[0]*2, y[1]*2\n",
        "    \n",
        "    def __call__(self, *args, **kwargs):\n",
        "        return self.convert2(*args, **kwargs)\n",
        "    \n",
        "conv = Converter((240, 320), 2)\n",
        "conv(nn(test_images[0:1])[0,:,:,0,1].numpy())"
      ]
    },
    {
      "cell_type": "code",
      "execution_count": null,
      "metadata": {
        "execution": {
          "iopub.execute_input": "2022-01-30T10:03:59.209157Z",
          "iopub.status.busy": "2022-01-30T10:03:59.208369Z",
          "iopub.status.idle": "2022-01-30T10:04:06.770702Z",
          "shell.execute_reply": "2022-01-30T10:04:06.769815Z",
          "shell.execute_reply.started": "2022-01-30T10:03:59.209115Z"
        },
        "id": "ApuIeMeN0J5x"
      },
      "outputs": [],
      "source": [
        "frames = []\n",
        "cap = cv2.VideoCapture(path+'data/video.mp4')\n",
        "while(cap.isOpened()):\n",
        "    ret, frame0 = cap.read()\n",
        "    if ret:\n",
        "        frames.append(frame0)\n",
        "    else:\n",
        "        break\n",
        "        \n",
        "cap.release()\n",
        "cv2.destroyAllWindows()"
      ]
    },
    {
      "cell_type": "code",
      "execution_count": null,
      "metadata": {
        "execution": {
          "iopub.execute_input": "2022-01-30T10:54:21.068856Z",
          "iopub.status.busy": "2022-01-30T10:54:21.068565Z",
          "iopub.status.idle": "2022-01-30T10:54:21.316651Z",
          "shell.execute_reply": "2022-01-30T10:54:21.315951Z",
          "shell.execute_reply.started": "2022-01-30T10:54:21.068826Z"
        },
        "id": "xYM9BdPu0J5x",
        "outputId": "845e03de-7027-4158-b195-4150a5b48a44",
        "colab": {
          "base_uri": "https://localhost:8080/",
          "height": 269
        }
      },
      "outputs": [
        {
          "output_type": "display_data",
          "data": {
            "image/png": "[encoded data removed]",
            "text/plain": [
              "<Figure size 432x288 with 1 Axes>"
            ]
          },
          "metadata": {
            "needs_background": "light"
          }
        }
      ],
      "source": [
        "frame = frames[99]\n",
        "plt.imshow(frame);"
      ]
    },
    {
      "cell_type": "code",
      "execution_count": null,
      "metadata": {
        "execution": {
          "iopub.execute_input": "2022-01-30T10:54:27.502730Z",
          "iopub.status.busy": "2022-01-30T10:54:27.502460Z",
          "iopub.status.idle": "2022-01-30T10:54:27.855917Z",
          "shell.execute_reply": "2022-01-30T10:54:27.855100Z",
          "shell.execute_reply.started": "2022-01-30T10:54:27.502702Z"
        },
        "id": "Y6N-QwfJ0J5y",
        "outputId": "3caa9916-0f7e-4000-ed8b-cc295011232b",
        "colab": {
          "base_uri": "https://localhost:8080/",
          "height": 286
        }
      },
      "outputs": [
        {
          "output_type": "stream",
          "name": "stdout",
          "text": [
            "198.0 32.0\n"
          ]
        },
        {
          "output_type": "display_data",
          "data": {
            "image/png": "[encoded data removed]",
            "text/plain": [
              "<Figure size 432x288 with 1 Axes>"
            ]
          },
          "metadata": {
            "needs_background": "light"
          }
        }
      ],
      "source": [
        "plt.imshow(nn(frame.reshape(1, 480, 640, 3) / 255.0)[0,:,:,0,1].numpy()*255);\n",
        "coord = conv(nn(frame.reshape(1, 480, 640, 3) / 255.0)[0,:,:,0,1].numpy())\n",
        "print(coord[1]/2, coord[0]/2)\n",
        "\n",
        "# TODO:\n",
        "# reduce noise...\n",
        "# then try using mean converter"
      ]
    },
    {
      "cell_type": "code",
      "source": [
        "# generating prediction heatmaps to take a peek on training results\n",
        "\n",
        "# somehow i cant get cv2 to create grayscale video\n",
        "# out = cv2.VideoWriter('out.avi', cv2.VideoWriter_fourcc(*'XVID'), 30, (240, 320), 0)\n",
        "\n",
        "for f in frames:\n",
        "    f_out = (nn(f.reshape(1, 480, 640, 3) / 255.0)[0,:,:,0,1]*255).numpy().astype(np.uint8)\n",
        "    cv2.imwrite('outputs/{i}.jpg', f_out)\n",
        "    # out.write(f_out)\n",
        "\n",
        "# out.release()\n",
        "\n",
        "\n",
        "!zip -r outputs.zip outputs"
      ],
      "metadata": {
        "id": "R2tgWdBqzaPE"
      },
      "execution_count": null,
      "outputs": []
    },
    {
      "cell_type": "code",
      "execution_count": null,
      "metadata": {
        "execution": {
          "iopub.execute_input": "2022-01-30T10:34:39.566165Z",
          "iopub.status.busy": "2022-01-30T10:34:39.565853Z",
          "iopub.status.idle": "2022-01-30T10:37:48.212034Z",
          "shell.execute_reply": "2022-01-30T10:37:48.211289Z",
          "shell.execute_reply.started": "2022-01-30T10:34:39.566134Z"
        },
        "id": "sRAaOhVf0J5y"
      },
      "outputs": [],
      "source": [
        "cap = cv2.VideoCapture('Vision/mice/data/video.mp4')\n",
        "out = cv2.VideoWriter('out.mp4', cv2.VideoWriter_fourcc(*'mp4v'), 30, (int(cap.get(3)),int(cap.get(4))))\n",
        "\n",
        "while(cap.isOpened()):\n",
        "    ret, frame0 = cap.read()\n",
        "    if ret:\n",
        "        \n",
        "        # format & pass into CNN\n",
        "        frame = frame0.reshape(1, 480, 640, 3) / 255.0\n",
        "        output = nn(frame)\n",
        "        \n",
        "        # compute coordinates\n",
        "        coord_s = conv(output[0,:,:,0,1].numpy())\n",
        "        coord_r = conv(output[0,:,:,1,1].numpy())\n",
        "        coord_l = conv(output[0,:,:,2,1].numpy())\n",
        "        coord_t = conv(output[0,:,:,3,1].numpy())\n",
        "        \n",
        "        # write to frame\n",
        "        frame = cv2.circle(frame0, (round(coord_s[1]), round(coord_s[0])), 3, (200,0,0), -1)\n",
        "        frame = cv2.circle(frame, (round(coord_r[1]), round(coord_r[0])), 3, (200,0,200), -1)\n",
        "        frame = cv2.circle(frame, (round(coord_l[1]), round(coord_l[0])), 3, (0,0,200), -1)\n",
        "        frame = cv2.circle(frame, (round(coord_t[1]), round(coord_t[0])), 3, (0,200,0), -1)\n",
        "        \n",
        "        out.write(frame)\n",
        "        \n",
        "    else:\n",
        "        break\n",
        "        \n",
        "cap.release()\n",
        "out.release()\n",
        "cv2.destroyAllWindows()"
      ]
    }
  ],
  "metadata": {
    "kernelspec": {
      "display_name": "Python 3 (ipykernel)",
      "language": "python",
      "name": "python3"
    },
    "language_info": {
      "codemirror_mode": {
        "name": "ipython",
        "version": 3
      },
      "file_extension": ".py",
      "mimetype": "text/x-python",
      "name": "python",
      "nbconvert_exporter": "python",
      "pygments_lexer": "ipython3",
      "version": "3.8.10"
    },
    "colab": {
      "name": "mice.ipynb",
      "provenance": [],
      "collapsed_sections": []
    },
    "accelerator": "GPU"
  },
  "nbformat": 4,
  "nbformat_minor": 0
}